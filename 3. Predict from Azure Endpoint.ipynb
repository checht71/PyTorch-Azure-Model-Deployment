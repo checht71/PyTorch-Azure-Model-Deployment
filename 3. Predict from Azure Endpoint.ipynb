{
 "cells": [
  {
   "cell_type": "code",
   "execution_count": null,
   "id": "f0fca445-b003-478e-8b9f-10e0e8ce6b3e",
   "metadata": {},
   "outputs": [],
   "source": [
    "from PIL import Image\n",
    "import json\n",
    "from os import listdir\n",
    "import numpy as np\n",
    "import requests\n",
    "\n",
    "def load_images_in_batches(image_path, image_names, batch_size):\n",
    "    \"\"\"Load images and convert them to json compatible nested lists\"\"\"\n",
    "    batch = []\n",
    "    for i, image_name in enumerate(image_names):\n",
    "        image = Image.open(image_path+image_name)\n",
    "        np_image = np.array(image)\n",
    "        image_list = np_image.tolist()\n",
    "        batch.append(image_list)\n",
    "    return batch\n",
    "\n",
    "\n",
    "def get_images():\n",
    "    config_file_path = \"config.json\"\n",
    "\n",
    "    # Read JSON data into a dictionary\n",
    "    with open(config_file_path, 'r') as file:\n",
    "        data = json.load(file)\n",
    "        print(data)\n",
    "\n",
    "    image_path = data[\"image_dir\"]\n",
    "    image_names = listdir(image_path)\n",
    "    batch_size = len(image_names)\n",
    "    return image_path, image_names, batch_size\n",
    "\n",
    "\n",
    "image_path, image_names, batch_size = get_images()\n",
    "\n",
    "\n",
    "image_batch = load_images_in_batches(image_path, image_names, batch_size)\n",
    "\n",
    "print(\"List Shape (in terms of nesting):\", (len(image_batch),\n",
    "                        len(image_batch[0]), len(image_batch[0][0]), \n",
    "                        len(image_batch[0][0][0])))\n",
    "input_data_json = json.dumps({\"data\": [image_batch]})\n",
    "scoring_uri = \"scoring uri here\"  \n",
    "headers = {\"Content-Type\": \"application/json\"}\n",
    "\n",
    "response = requests.post(scoring_uri, data=input_data_json, headers=headers)\n",
    "\n",
    "if response.status_code == 200:\n",
    "    result = json.loads(response.json())\n",
    "    print(result)\n",
    "    prediction = result[\"result\"][0]\n",
    "    print(f\"Prediction: {prediction}\")\n",
    "else:\n",
    "    print(f\"Error: {response.text}\")"
   ]
  },
  {
   "cell_type": "code",
   "execution_count": null,
   "id": "b5d10913-2e21-4bd7-95c0-1e6d7b64ca08",
   "metadata": {},
   "outputs": [],
   "source": []
  }
 ],
 "metadata": {
  "kernelspec": {
   "display_name": "Python 3 (ipykernel)",
   "language": "python",
   "name": "python3"
  },
  "language_info": {
   "codemirror_mode": {
    "name": "ipython",
    "version": 3
   },
   "file_extension": ".py",
   "mimetype": "text/x-python",
   "name": "python",
   "nbconvert_exporter": "python",
   "pygments_lexer": "ipython3",
   "version": "3.11.9"
  }
 },
 "nbformat": 4,
 "nbformat_minor": 5
}
