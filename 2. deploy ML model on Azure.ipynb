{
 "cells": [
  {
   "cell_type": "markdown",
   "id": "bde701c0-b13c-490e-8b5d-d28f0f94828e",
   "metadata": {},
   "source": [
    "**Importing the dependencies**"
   ]
  },
  {
   "cell_type": "code",
   "execution_count": null,
   "id": "00622403-3ce4-49a3-bf79-46b4dd35d6f0",
   "metadata": {},
   "outputs": [],
   "source": [
    "import os\n",
    "import json\n",
    "import requests\n",
    "\n",
    "from azureml.core import Workspace\n",
    "from azureml.core.model import Model\n",
    "from azureml.core.environment import Environment\n",
    "from azureml.core.conda_dependencies import CondaDependencies\n",
    "from azureml.core.model import InferenceConfig\n",
    "from azureml.core.webservice import AciWebservice, Webservice, LocalWebservice"
   ]
  },
  {
   "cell_type": "code",
   "execution_count": null,
   "id": "20511285-c420-4366-a738-e363881489b4",
   "metadata": {},
   "outputs": [],
   "source": [
    "# loading the configuration file - standard way - use .env file and load_dotenv from python-dotenv module\n",
    "config_file_path = \"config.json\"\n",
    "\n",
    "# Read JSON data into a dictionary\n",
    "with open(config_file_path, 'r') as file:\n",
    "    data = json.load(file)\n",
    "\n",
    "subscription_id = data[\"subscription_id\"]\n",
    "resource_group = data[\"resource_group\"]  \n",
    "workspace_name = data[\"workspace_name\"]\n",
    "region = data[\"region\"]\n",
    "model_name = data[\"model_name\"]\n",
    "service_name = data[\"service_name\"]\n",
    "model_path = data[\"weights_path\"]"
   ]
  },
  {
   "cell_type": "code",
   "execution_count": null,
   "id": "2181b4be-b18b-4f73-936c-b2df905c5c4f",
   "metadata": {},
   "outputs": [],
   "source": [
    "print(f\"Resource group: {resource_group}\")\n",
    "print(f\"Workspace: {workspace_name}\")\n",
    "print(f\"Region: {region}\")\n",
    "print(f\"Model Name: {model_name}\")\n",
    "print(f\"Service Name: {service_name}\")\n",
    "print(f\"Model Path: {model_path}\")"
   ]
  },
  {
   "cell_type": "markdown",
   "id": "1169e424-9325-4eae-bb4a-6cd33ff84db9",
   "metadata": {},
   "source": [
    "**Create a Resource Group from Azure Portal**"
   ]
  },
  {
   "cell_type": "code",
   "execution_count": null,
   "id": "67ea9e3f-95be-436d-b9de-e395c093b4c6",
   "metadata": {},
   "outputs": [],
   "source": [
    "# Create a workspace\n",
    "\n",
    "try:\n",
    "    ws = Workspace.get(name=workspace_name,\n",
    "                        subscription_id=subscription_id,\n",
    "                        resource_group=resource_group,\n",
    "                        location=region)\n",
    "    print(f'Workspace {workspace_name} loaded')\n",
    "except:\n",
    "    ws = Workspace.create(name=workspace_name,\n",
    "                        subscription_id=subscription_id,\n",
    "                        resource_group=resource_group,\n",
    "                        location=region)\n",
    "    print(f'Workspace {workspace_name} created')"
   ]
  },
  {
   "cell_type": "code",
   "execution_count": null,
   "id": "383488f6-6d86-4efc-9906-17547c6c5f53",
   "metadata": {},
   "outputs": [],
   "source": [
    "# Register the model in Azure Machine Learning\n",
    "try:\n",
    "    registered_model = Model(workspace=ws, name=model_name)\n",
    "    print(f\"{model_name} loaded from registry\")\n",
    "except:\n",
    "    registered_model = Model.register(model_path=model_path, model_name=model_name, workspace=ws)\n",
    "    print(f\"{model_name} registred\")"
   ]
  },
  {
   "cell_type": "code",
   "execution_count": null,
   "id": "064fbfc8-b4fd-493a-a383-1f7edb86479a",
   "metadata": {},
   "outputs": [],
   "source": [
    "conda_env = Environment('az2')"
   ]
  },
  {
   "cell_type": "code",
   "execution_count": null,
   "id": "60d77cff-962c-4f6c-876c-18cefc896ccd",
   "metadata": {},
   "outputs": [],
   "source": [
    "ymlenv = Environment.from_conda_specification(name=\"myenv\", file_path=\"environment.yml\")"
   ]
  },
  {
   "cell_type": "code",
   "execution_count": null,
   "id": "1ff71338-a9a9-4b5c-993d-4ac3091db355",
   "metadata": {},
   "outputs": [],
   "source": [
    "# Create an InferenceConfig\n",
    "inference_config = InferenceConfig(entry_script='score.py', environment=ymlenv)"
   ]
  },
  {
   "cell_type": "code",
   "execution_count": null,
   "id": "2c034a32-2ad0-43de-973f-fdb5538712b9",
   "metadata": {},
   "outputs": [],
   "source": [
    "local_deployment = False"
   ]
  },
  {
   "cell_type": "code",
   "execution_count": null,
   "id": "17ac0a14-c826-4331-9932-7b9d4b185749",
   "metadata": {},
   "outputs": [],
   "source": [
    "# Specify deployment configuration for ACI\n",
    "if local_deployment == True:\n",
    "    aci_config = LocalWebservice.deploy_configuration()\n",
    "else:\n",
    "    aci_config = AciWebservice.deploy_configuration(cpu_cores=2, memory_gb=2)"
   ]
  },
  {
   "cell_type": "code",
   "execution_count": null,
   "id": "f3389982-3c87-478a-93ad-8ca381c0f3ad",
   "metadata": {},
   "outputs": [],
   "source": [
    "def delete_service():\n",
    "    service = ws.webservices[service_name]\n",
    "    service.delete()\n",
    "    print(f\"{service_name} sucessfully deleted.\")"
   ]
  },
  {
   "cell_type": "code",
   "execution_count": null,
   "id": "a55068a5-fad2-44df-871f-1fcc0ae2e761",
   "metadata": {},
   "outputs": [],
   "source": [
    "try:\n",
    "    delete_service()\n",
    "except:\n",
    "    print(\"No Service exists\")"
   ]
  },
  {
   "cell_type": "code",
   "execution_count": null,
   "id": "2c72d776-7f1e-49ad-8c43-f837b23e8645",
   "metadata": {},
   "outputs": [],
   "source": [
    "service = Model.deploy(workspace=ws,\n",
    "                       name=service_name,\n",
    "                       models=[registered_model],\n",
    "                       inference_config=inference_config,\n",
    "                       deployment_config=aci_config)\n",
    "service.wait_for_deployment(show_output=True)"
   ]
  },
  {
   "cell_type": "code",
   "execution_count": null,
   "id": "af0c0738-3e3e-468d-bdda-20812702f482",
   "metadata": {},
   "outputs": [],
   "source": [
    "print(service.get_logs())"
   ]
  },
  {
   "cell_type": "code",
   "execution_count": null,
   "id": "69efb038-ad52-46d0-9f17-5acd96151214",
   "metadata": {},
   "outputs": [],
   "source": [
    "scoring_uri = service.scoring_uri"
   ]
  },
  {
   "cell_type": "code",
   "execution_count": null,
   "id": "731b0f84-6e1a-4cc9-9497-e958f6efbd73",
   "metadata": {},
   "outputs": [],
   "source": [
    "scoring_uri"
   ]
  },
  {
   "cell_type": "markdown",
   "id": "d5cafb79-2702-4203-977d-4181247fcbd5",
   "metadata": {},
   "source": [
    "**Cleaning up all the created resources**"
   ]
  },
  {
   "cell_type": "code",
   "execution_count": null,
   "id": "a1895e4a-551d-4472-99bb-8bc2993c699a",
   "metadata": {},
   "outputs": [],
   "source": [
    "delete_service()"
   ]
  },
  {
   "cell_type": "code",
   "execution_count": null,
   "id": "1f1e57ad-478c-4aed-b33a-08bf3f09632c",
   "metadata": {},
   "outputs": [],
   "source": [
    "# Delete the model\n",
    "\"\"\"\n",
    "registered_model = ws.models[model_name]\n",
    "registered_model.delete()\n",
    "print(f\"{model_name} sucessfully deleted.\")\n",
    "\"\"\"\n"
   ]
  },
  {
   "cell_type": "code",
   "execution_count": null,
   "id": "84733dc8-3ddf-47a2-a906-644946a3a888",
   "metadata": {},
   "outputs": [],
   "source": [
    "# Delete the workspace\n",
    "\"\"\"\n",
    "ws.delete(delete_dependent_resources=True)\n",
    "print(f\"{workspace_name} sucessfully deleted.\")\n",
    "\"\"\""
   ]
  },
  {
   "cell_type": "markdown",
   "id": "53f91c0a-bad4-4131-9d3a-27901d17e0a8",
   "metadata": {},
   "source": [
    "1. Azure Account with appropriate subscription\n",
    "2. Configuration file that has subscription_id and other details like resource_group name, etc\n",
    "3. Create a resource group from Azure Portal\n",
    "4. Create a workspace\n",
    "5. Register the model in container registry\n",
    "6. Deploy the model as endpoint\n",
    "7. Once done, delete the created resources"
   ]
  }
 ],
 "metadata": {
  "kernelspec": {
   "display_name": "Python 3 (ipykernel)",
   "language": "python",
   "name": "python3"
  },
  "language_info": {
   "codemirror_mode": {
    "name": "ipython",
    "version": 3
   },
   "file_extension": ".py",
   "mimetype": "text/x-python",
   "name": "python",
   "nbconvert_exporter": "python",
   "pygments_lexer": "ipython3",
   "version": "3.11.9"
  }
 },
 "nbformat": 4,
 "nbformat_minor": 5
}
